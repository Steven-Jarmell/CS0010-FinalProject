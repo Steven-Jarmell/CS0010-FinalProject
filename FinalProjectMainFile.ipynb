{
 "cells": [
  {
   "cell_type": "code",
   "execution_count": 3,
   "id": "46d68203-8830-421f-88b3-1974743542bf",
   "metadata": {},
   "outputs": [],
   "source": [
    "# Import necessary libraries\n",
    "import pandas as pd\n",
    "import numpy as np\n",
    "import geopandas as gpd\n",
    "\n",
    "# Create a new dataframe to hold all the metrics from all the neighborhoods\n",
    "neighborhood_metrics = pd.DataFrame()\n",
    "\n",
    "#Get all neighborhoods in an array and add it to the neighborhood_metrics\n",
    "neighborhood_shapes = gpd.read_file(\"Neighborhoods_.geojson\")\n",
    "neighborhood_metrics[\"neighborhood\"] = neighborhood_shapes[\"hood\"]\n",
    "\n",
    "# When you add your metric column, make sure it's aligned to the way the neighborhoods are stored in neighborhood_metrics"
   ]
  },
  {
   "cell_type": "markdown",
   "id": "58a40c1d-2552-4735-8557-b2149e97809e",
   "metadata": {},
   "source": [
    "## Asbestos"
   ]
  },
  {
   "cell_type": "code",
   "execution_count": null,
   "id": "e397377b-bec5-4e11-ac1d-dc0e8fca6943",
   "metadata": {},
   "outputs": [],
   "source": []
  },
  {
   "cell_type": "markdown",
   "id": "eacf4830-7bd2-4bb4-82e6-2a8069a87160",
   "metadata": {},
   "source": [
    "## Restaurant Inspections"
   ]
  },
  {
   "cell_type": "code",
   "execution_count": 32,
   "id": "67c95506-fdf3-490f-9325-c4dc38eec059",
   "metadata": {},
   "outputs": [
    {
     "name": "stdout",
     "output_type": "stream",
     "text": [
      "       neighborhood  restaurant_metric\n",
      "70        Knoxville           0.000000\n",
      "38     West Oakland           0.000000\n",
      "87           Esplen           0.000000\n",
      "45  Terrace Village           0.000000\n",
      "80          Windgap           0.000000\n",
      "..              ...                ...\n",
      "84  Crafton Heights           0.052632\n",
      "20    New Homestead                NaN\n",
      "54   Swisshelm Park                NaN\n",
      "86   Chartiers City                NaN\n",
      "88        Ridgemont                NaN\n",
      "\n",
      "[90 rows x 2 columns]\n"
     ]
    },
    {
     "name": "stderr",
     "output_type": "stream",
     "text": [
      "C:\\Users\\Owner\\anaconda3\\envs\\geo_env\\lib\\site-packages\\IPython\\core\\interactiveshell.py:3165: DtypeWarning: Columns (9) have mixed types.Specify dtype option on import or set low_memory=False.\n",
      "  has_raised = await self.run_ast_nodes(code_ast.body, cell_name,\n"
     ]
    }
   ],
   "source": [
    "# Load data\n",
    "restaurantInspections = pd.read_csv(\"data_with_neighborhoods/restaurantInspections_WithNeighborhood.csv\")\n",
    "\n",
    "# Use a mask to extract the rows from the data where a building fails an inspection\n",
    "restaurant_fail_mask = restaurantInspections[\"placard_desc\"]!=\"Inspected & Permitted\"\n",
    "restaurant_fail = restaurantInspections[restaurant_fail_mask]\n",
    "\n",
    "# Groupby neighborhood and count the number of instances per neighborhood\n",
    "# Because the only data in restaurant_fail is failed results, this count is the number of failed inspections\n",
    "restaurant_fail_count = restaurant_fail.groupby(\"neighborhood\")[\"placard_desc\"].count()\n",
    "\n",
    "# Generate total count in a similar way\n",
    "restaurant_total_count = restaurantInspections.groupby(\"neighborhood\")[\"placard_desc\"].count()\n",
    "\n",
    "# Create a new dictionary. \n",
    "# Using a dictionary can ensure that none of the information is misaligned by neighborhood,\n",
    "# because dictionaries are unordered\n",
    "resturaunt_fail_proportion_dict = {}\n",
    "\n",
    "# Add all the fail counts into the dictionary under their neighborhood\n",
    "for x in zip(restaurant_fail_count.index,restaurant_fail_count):\n",
    "    resturaunt_fail_proportion_dict[x[0]] = x[1]\n",
    "    \n",
    "# Divide all fail counts by the total counts\n",
    "for x in zip(restaurant_total_count.index,restaurant_total_count):\n",
    "    # Some neighborhoods have no restaurants that fail, which means they won't show up in the \n",
    "    # restaurant_fail_count. For those, put zero in the dictionary in its place\n",
    "    if (x[0] in resturaunt_fail_proportion_dict):\n",
    "        # Assign result to result divided by total count\n",
    "        resturaunt_fail_proportion_dict[x[0]] = resturaunt_fail_proportion_dict[x[0]] / x[1]\n",
    "    else:\n",
    "        resturaunt_fail_proportion_dict[x[0]] = 0\n",
    "    \n",
    "# Create a new array for the restaurant metric to be added to metrics\n",
    "restaurant_metric = []\n",
    "\n",
    "for neighborhood in neighborhood_metrics[\"neighborhood\"]:\n",
    "    \n",
    "    # Some neighborhoods don't have any results at all\n",
    "    if(neighborhood in resturaunt_fail_proportion_dict):\n",
    "        # append the result for that neighborhood into the new array\n",
    "        restaurant_metric.append(resturaunt_fail_proportion_dict[neighborhood])\n",
    "    else:\n",
    "        restaurant_metric.append(float(\"NaN\")) # Only way to pass NaN manually\n",
    "    \n",
    "# Add metric column to list of metrics\n",
    "neighborhood_metrics[\"restaurant_metric\"] = restaurant_metric\n",
    "\n",
    "print(neighborhood_metrics.sort_values(\"restaurant_metric\"))\n",
    "                                                                            "
   ]
  },
  {
   "cell_type": "markdown",
   "id": "1fa0a3cc-8583-4a7d-aad5-f2b11f9b91de",
   "metadata": {},
   "source": [
    "## Fire Data"
   ]
  },
  {
   "cell_type": "code",
   "execution_count": null,
   "id": "3451ff93-bcfb-47a0-868a-b1487317fdba",
   "metadata": {},
   "outputs": [],
   "source": []
  }
 ],
 "metadata": {
  "kernelspec": {
   "display_name": "Python 3",
   "language": "python",
   "name": "python3"
  },
  "language_info": {
   "codemirror_mode": {
    "name": "ipython",
    "version": 3
   },
   "file_extension": ".py",
   "mimetype": "text/x-python",
   "name": "python",
   "nbconvert_exporter": "python",
   "pygments_lexer": "ipython3",
   "version": "3.9.2"
  }
 },
 "nbformat": 4,
 "nbformat_minor": 5
}
