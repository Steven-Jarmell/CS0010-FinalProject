{
 "cells": [
  {
   "cell_type": "code",
   "execution_count": 2,
   "metadata": {},
   "outputs": [],
   "source": [
    "# Import necessary libraries\n",
    "import pandas as pd\n",
    "import numpy as np\n",
    "import geopandas as gpd\n",
    "\n",
    "# Create a new dataframe to hold all the metrics from all the neighborhoods\n",
    "neighborhood_metrics = pd.DataFrame()\n",
    "\n",
    "#Get all neighborhoods in an array and add it to the neighborhood_metrics\n",
    "neighborhood_shapes = gpd.read_file(\"Neighborhoods_.geojson\")\n",
    "neighborhood_metrics[\"neighborhood\"] = neighborhood_shapes[\"hood\"]\n",
    "\n",
    "# When you add your metric column, make sure it's aligned to the way the neighborhoods are stored in neighborhood_metrics"
   ]
  },
  {
   "cell_type": "markdown",
   "metadata": {},
   "source": [
    "## Asbestos"
   ]
  },
  {
   "cell_type": "code",
   "execution_count": null,
   "metadata": {},
   "outputs": [],
   "source": []
  },
  {
   "cell_type": "markdown",
   "metadata": {},
   "source": [
    "## Restaurant Inspections"
   ]
  },
  {
   "cell_type": "code",
   "execution_count": null,
   "id": "67c95506-fdf3-490f-9325-c4dc38eec059",
   "metadata": {},
   "outputs": [
    {
     "name": "stdout",
     "output_type": "stream",
     "text": [
      "       neighborhood  restaurant_metric\n",
      "70        Knoxville           0.000000\n",
      "38     West Oakland           0.000000\n",
      "87           Esplen           0.000000\n",
      "45  Terrace Village           0.000000\n",
      "80          Windgap           0.000000\n",
      "..              ...                ...\n",
      "84  Crafton Heights           0.052632\n",
      "20    New Homestead                NaN\n",
      "54   Swisshelm Park                NaN\n",
      "86   Chartiers City                NaN\n",
      "88        Ridgemont                NaN\n",
      "\n",
      "[90 rows x 2 columns]\n"
     ]
    },
    {
     "name": "stderr",
     "output_type": "stream",
     "text": [
      "C:\\Users\\Owner\\anaconda3\\envs\\geo_env\\lib\\site-packages\\IPython\\core\\interactiveshell.py:3165: DtypeWarning: Columns (9) have mixed types.Specify dtype option on import or set low_memory=False.\n",
      "  has_raised = await self.run_ast_nodes(code_ast.body, cell_name,\n"
     ]
    }
   ],
   "source": [
    "# Load data\n",
    "restaurantInspections = pd.read_csv(\"data_with_neighborhoods/restaurantInspections_WithNeighborhood.csv\")\n",
    "\n",
    "# Use a mask to extract the rows from the data where a building fails an inspection\n",
    "restaurant_fail_mask = restaurantInspections[\"placard_desc\"]!=\"Inspected & Permitted\"\n",
    "restaurant_fail = restaurantInspections[restaurant_fail_mask]\n",
    "\n",
    "# Groupby neighborhood and count the number of instances per neighborhood\n",
    "# Because the only data in restaurant_fail is failed results, this count is the number of failed inspections\n",
    "restaurant_fail_count = restaurant_fail.groupby(\"neighborhood\")[\"placard_desc\"].count()\n",
    "\n",
    "# Generate total count in a similar way\n",
    "restaurant_total_count = restaurantInspections.groupby(\"neighborhood\")[\"placard_desc\"].count()\n",
    "\n",
    "# Create a new dictionary. \n",
    "# Using a dictionary can ensure that none of the information is misaligned by neighborhood,\n",
    "# because dictionaries are unordered\n",
    "resturaunt_fail_proportion_dict = {}\n",
    "\n",
    "# Add all the fail counts into the dictionary under their neighborhood\n",
    "for x in zip(restaurant_fail_count.index,restaurant_fail_count):\n",
    "    resturaunt_fail_proportion_dict[x[0]] = x[1]\n",
    "    \n",
    "# Divide all fail counts by the total counts\n",
    "for x in zip(restaurant_total_count.index,restaurant_total_count):\n",
    "    # Some neighborhoods have no restaurants that fail, which means they won't show up in the \n",
    "    # restaurant_fail_count. For those, put zero in the dictionary in its place\n",
    "    if (x[0] in resturaunt_fail_proportion_dict):\n",
    "        # Assign result to result divided by total count\n",
    "        resturaunt_fail_proportion_dict[x[0]] = resturaunt_fail_proportion_dict[x[0]] / x[1]\n",
    "    else:\n",
    "        resturaunt_fail_proportion_dict[x[0]] = 0\n",
    "    \n",
    "# Create a new array for the restaurant metric to be added to metrics\n",
    "restaurant_metric = []\n",
    "\n",
    "for neighborhood in neighborhood_metrics[\"neighborhood\"]:\n",
    "    \n",
    "    # Some neighborhoods don't have any results at all\n",
    "    if(neighborhood in resturaunt_fail_proportion_dict):\n",
    "        # append the result for that neighborhood into the new array\n",
    "        restaurant_metric.append(resturaunt_fail_proportion_dict[neighborhood])\n",
    "    else:\n",
    "        restaurant_metric.append(float(\"NaN\")) # Only way to pass NaN manually\n",
    "    \n",
    "# Add metric column to list of metrics\n",
    "neighborhood_metrics[\"restaurant_metric\"] = restaurant_metric\n",
    "\n",
    "print(neighborhood_metrics.sort_values(\"restaurant_metric\"))\n",
    "                                                                            "
   ]
  },
  {
   "cell_type": "markdown",
   "metadata": {},
   "source": [
    "## Fire Data"
   ]
  },
  {
   "cell_type": "code",
   "execution_count": 3,
   "metadata": {},
   "outputs": [],
   "source": [
    "fireData = pd.read_csv(\"fire.csv\")"
   ]
  },
  {
   "cell_type": "markdown",
   "metadata": {},
   "source": [
    "Reads the fire data into a variable called fireData"
   ]
  },
  {
   "cell_type": "code",
   "execution_count": 13,
   "metadata": {},
   "outputs": [],
   "source": [
    "df = fireData[['neighborhood', 'alarms']].groupby(by='neighborhood')"
   ]
  },
  {
   "cell_type": "markdown",
   "metadata": {},
   "source": [
    "Creates a dataframe of the fire data, keeping only the neighborhood and alarm column\n",
    "and then grouping all the alarm values into which neighborhood they belong into"
   ]
  },
  {
   "cell_type": "code",
   "execution_count": 22,
   "metadata": {},
   "outputs": [
    {
     "data": {
      "text/html": [
       "<div>\n",
       "<style scoped>\n",
       "    .dataframe tbody tr th:only-of-type {\n",
       "        vertical-align: middle;\n",
       "    }\n",
       "\n",
       "    .dataframe tbody tr th {\n",
       "        vertical-align: top;\n",
       "    }\n",
       "\n",
       "    .dataframe thead th {\n",
       "        text-align: right;\n",
       "    }\n",
       "</style>\n",
       "<table border=\"1\" class=\"dataframe\">\n",
       "  <thead>\n",
       "    <tr style=\"text-align: right;\">\n",
       "      <th></th>\n",
       "      <th>alarms</th>\n",
       "    </tr>\n",
       "    <tr>\n",
       "      <th>neighborhood</th>\n",
       "      <th></th>\n",
       "    </tr>\n",
       "  </thead>\n",
       "  <tbody>\n",
       "    <tr>\n",
       "      <th>Ridgemont</th>\n",
       "      <td>1</td>\n",
       "    </tr>\n",
       "    <tr>\n",
       "      <th>Mount Oliver Borough</th>\n",
       "      <td>2</td>\n",
       "    </tr>\n",
       "    <tr>\n",
       "      <th>New Homestead</th>\n",
       "      <td>2</td>\n",
       "    </tr>\n",
       "    <tr>\n",
       "      <th>Hays</th>\n",
       "      <td>3</td>\n",
       "    </tr>\n",
       "    <tr>\n",
       "      <th>Regent Square</th>\n",
       "      <td>3</td>\n",
       "    </tr>\n",
       "    <tr>\n",
       "      <th>...</th>\n",
       "      <td>...</td>\n",
       "    </tr>\n",
       "    <tr>\n",
       "      <th>Lincoln-Lemington-Belmar</th>\n",
       "      <td>120</td>\n",
       "    </tr>\n",
       "    <tr>\n",
       "      <th>Squirrel Hill South</th>\n",
       "      <td>124</td>\n",
       "    </tr>\n",
       "    <tr>\n",
       "      <th>South Side Flats</th>\n",
       "      <td>126</td>\n",
       "    </tr>\n",
       "    <tr>\n",
       "      <th>Central Business District</th>\n",
       "      <td>153</td>\n",
       "    </tr>\n",
       "    <tr>\n",
       "      <th>Carrick</th>\n",
       "      <td>162</td>\n",
       "    </tr>\n",
       "  </tbody>\n",
       "</table>\n",
       "<p>91 rows × 1 columns</p>\n",
       "</div>"
      ],
      "text/plain": [
       "                           alarms\n",
       "neighborhood                     \n",
       "Ridgemont                       1\n",
       "Mount Oliver Borough            2\n",
       "New Homestead                   2\n",
       "Hays                            3\n",
       "Regent Square                   3\n",
       "...                           ...\n",
       "Lincoln-Lemington-Belmar      120\n",
       "Squirrel Hill South           124\n",
       "South Side Flats              126\n",
       "Central Business District     153\n",
       "Carrick                       162\n",
       "\n",
       "[91 rows x 1 columns]"
      ]
     },
     "execution_count": 22,
     "metadata": {},
     "output_type": "execute_result"
    }
   ],
   "source": [
    "df1 = df.sum().sort_values(by='alarms')\n",
    "df1"
   ]
  },
  {
   "cell_type": "markdown",
   "metadata": {},
   "source": [
    "The values of each neighborhood are all added together, and then sorted by the value in their alarms"
   ]
  },
  {
   "cell_type": "code",
   "execution_count": 23,
   "metadata": {},
   "outputs": [
    {
     "data": {
      "text/html": [
       "<div>\n",
       "<style scoped>\n",
       "    .dataframe tbody tr th:only-of-type {\n",
       "        vertical-align: middle;\n",
       "    }\n",
       "\n",
       "    .dataframe tbody tr th {\n",
       "        vertical-align: top;\n",
       "    }\n",
       "\n",
       "    .dataframe thead th {\n",
       "        text-align: right;\n",
       "    }\n",
       "</style>\n",
       "<table border=\"1\" class=\"dataframe\">\n",
       "  <thead>\n",
       "    <tr style=\"text-align: right;\">\n",
       "      <th></th>\n",
       "      <th>alarms</th>\n",
       "    </tr>\n",
       "    <tr>\n",
       "      <th>neighborhood</th>\n",
       "      <th></th>\n",
       "    </tr>\n",
       "  </thead>\n",
       "  <tbody>\n",
       "    <tr>\n",
       "      <th>Ridgemont</th>\n",
       "      <td>1</td>\n",
       "    </tr>\n",
       "    <tr>\n",
       "      <th>Mount Oliver Borough</th>\n",
       "      <td>2</td>\n",
       "    </tr>\n",
       "    <tr>\n",
       "      <th>New Homestead</th>\n",
       "      <td>2</td>\n",
       "    </tr>\n",
       "    <tr>\n",
       "      <th>Hays</th>\n",
       "      <td>3</td>\n",
       "    </tr>\n",
       "    <tr>\n",
       "      <th>Regent Square</th>\n",
       "      <td>3</td>\n",
       "    </tr>\n",
       "  </tbody>\n",
       "</table>\n",
       "</div>"
      ],
      "text/plain": [
       "                      alarms\n",
       "neighborhood                \n",
       "Ridgemont                  1\n",
       "Mount Oliver Borough       2\n",
       "New Homestead              2\n",
       "Hays                       3\n",
       "Regent Square              3"
      ]
     },
     "execution_count": 23,
     "metadata": {},
     "output_type": "execute_result"
    }
   ],
   "source": [
    "df1.head()"
   ]
  },
  {
   "cell_type": "markdown",
   "metadata": {},
   "source": [
    "This shows the 5 neighborhoods with the least amount of fire alarms"
   ]
  },
  {
   "cell_type": "code",
   "execution_count": 24,
   "metadata": {},
   "outputs": [
    {
     "data": {
      "text/html": [
       "<div>\n",
       "<style scoped>\n",
       "    .dataframe tbody tr th:only-of-type {\n",
       "        vertical-align: middle;\n",
       "    }\n",
       "\n",
       "    .dataframe tbody tr th {\n",
       "        vertical-align: top;\n",
       "    }\n",
       "\n",
       "    .dataframe thead th {\n",
       "        text-align: right;\n",
       "    }\n",
       "</style>\n",
       "<table border=\"1\" class=\"dataframe\">\n",
       "  <thead>\n",
       "    <tr style=\"text-align: right;\">\n",
       "      <th></th>\n",
       "      <th>alarms</th>\n",
       "    </tr>\n",
       "    <tr>\n",
       "      <th>neighborhood</th>\n",
       "      <th></th>\n",
       "    </tr>\n",
       "  </thead>\n",
       "  <tbody>\n",
       "    <tr>\n",
       "      <th>Lincoln-Lemington-Belmar</th>\n",
       "      <td>120</td>\n",
       "    </tr>\n",
       "    <tr>\n",
       "      <th>Squirrel Hill South</th>\n",
       "      <td>124</td>\n",
       "    </tr>\n",
       "    <tr>\n",
       "      <th>South Side Flats</th>\n",
       "      <td>126</td>\n",
       "    </tr>\n",
       "    <tr>\n",
       "      <th>Central Business District</th>\n",
       "      <td>153</td>\n",
       "    </tr>\n",
       "    <tr>\n",
       "      <th>Carrick</th>\n",
       "      <td>162</td>\n",
       "    </tr>\n",
       "  </tbody>\n",
       "</table>\n",
       "</div>"
      ],
      "text/plain": [
       "                           alarms\n",
       "neighborhood                     \n",
       "Lincoln-Lemington-Belmar      120\n",
       "Squirrel Hill South           124\n",
       "South Side Flats              126\n",
       "Central Business District     153\n",
       "Carrick                       162"
      ]
     },
     "execution_count": 24,
     "metadata": {},
     "output_type": "execute_result"
    }
   ],
   "source": [
    "df1.tail()"
   ]
  },
  {
   "cell_type": "markdown",
   "metadata": {},
   "source": [
    "This shows the 5 neighborhoods with the most amount of fire alarms"
   ]
  },
  {
   "cell_type": "code",
   "execution_count": 25,
   "metadata": {},
   "outputs": [
    {
     "data": {
      "text/plain": [
       "<matplotlib.axes._subplots.AxesSubplot at 0x7f44145cb280>"
      ]
     },
     "execution_count": 25,
     "metadata": {},
     "output_type": "execute_result"
    },
    {
     "data": {
      "image/png": "[encoded data removed]",
      "text/plain": [
       "<Figure size 1080x720 with 1 Axes>"
      ]
     },
     "metadata": {
      "needs_background": "light"
     },
     "output_type": "display_data"
    }
   ],
   "source": [
    "df1.plot(kind = 'bar', figsize=(15,10))"
   ]
  },
  {
   "cell_type": "markdown",
   "metadata": {},
   "source": [
    "This is the data from all the neighborhoods plotted into an ascending bar graph"
   ]
  },
  {
   "cell_type": "code",
   "execution_count": null,
   "metadata": {},
   "outputs": [],
   "source": []
  }
 ],
 "metadata": {
  "kernelspec": {
   "display_name": "Python 3",
   "language": "python",
   "name": "python3"
  },
  "language_info": {
   "codemirror_mode": {
    "name": "ipython",
    "version": 3
   },
   "file_extension": ".py",
   "mimetype": "text/x-python",
   "name": "python",
   "nbconvert_exporter": "python",
   "pygments_lexer": "ipython3",
   "version": "3.8.3"
  }
 },
 "nbformat": 4,
 "nbformat_minor": 5
}
