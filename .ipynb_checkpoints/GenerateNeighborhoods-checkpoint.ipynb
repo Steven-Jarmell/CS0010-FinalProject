{
 "cells": [
  {
   "cell_type": "markdown",
   "metadata": {},
   "source": [
    "# Generating Neighborhood Data\n",
    "\n",
    "## Asbestos\n",
    "The asbestos dataset doesn't contain readable neighborhood information, and my previous method of trying to reverse zipcodes to neighborhoods didn't work. I'll instead be using geopandas to determine the neigborhoods of data in \n",
    "our datasets\n",
    "\n",
    "I used this as a reference for the capabilities of this setup:\n",
    "https://towardsdatascience.com/reverse-geocoding-in-python-a915acf29eb6"
   ]
  },
  {
   "cell_type": "code",
   "execution_count": 3,
   "metadata": {},
   "outputs": [
    {
     "ename": "ModuleNotFoundError",
     "evalue": "No module named 'geopandas'",
     "output_type": "error",
     "traceback": [
      "\u001b[1;31m---------------------------------------------------------------------------\u001b[0m",
      "\u001b[1;31mModuleNotFoundError\u001b[0m                       Traceback (most recent call last)",
      "\u001b[1;32m<ipython-input-3-a11b37897346>\u001b[0m in \u001b[0;36m<module>\u001b[1;34m\u001b[0m\n\u001b[0;32m      1\u001b[0m \u001b[1;31m# Import necessary libraries\u001b[0m\u001b[1;33m\u001b[0m\u001b[1;33m\u001b[0m\u001b[1;33m\u001b[0m\u001b[0m\n\u001b[0;32m      2\u001b[0m \u001b[1;32mimport\u001b[0m \u001b[0mpandas\u001b[0m \u001b[1;32mas\u001b[0m \u001b[0mpd\u001b[0m\u001b[1;33m\u001b[0m\u001b[1;33m\u001b[0m\u001b[0m\n\u001b[1;32m----> 3\u001b[1;33m \u001b[1;32mimport\u001b[0m \u001b[0mgeopandas\u001b[0m \u001b[1;32mas\u001b[0m \u001b[0mgpd\u001b[0m\u001b[1;33m\u001b[0m\u001b[1;33m\u001b[0m\u001b[0m\n\u001b[0m\u001b[0;32m      4\u001b[0m \u001b[1;32mimport\u001b[0m \u001b[0mgeopy\u001b[0m\u001b[1;33m\u001b[0m\u001b[1;33m\u001b[0m\u001b[0m\n\u001b[0;32m      5\u001b[0m \u001b[1;33m\u001b[0m\u001b[0m\n",
      "\u001b[1;31mModuleNotFoundError\u001b[0m: No module named 'geopandas'"
     ]
    }
   ],
   "source": [
    "# Import necessary libraries\n",
    "import pandas as pd\n",
    "import geopandas as gpd\n",
    "import geopy\n",
    "\n",
    "from geopy.geocoders import Nominatim\n",
    "from geopy.extra.rate_limiter import RateLimiter\n",
    "\n",
    "import shapely as shp\n",
    "from shapely.geometry import Point, Polygon\n",
    "import matplotlib as plt\n"
   ]
  },
  {
   "cell_type": "code",
   "execution_count": null,
   "metadata": {},
   "outputs": [],
   "source": [
    "import shapely as shp\n",
    "import matplotlib as plt\n",
    "import geopandas as gpd\n",
    "\n",
    "neighborhood_shapes = gpd.read_file(\"Neighborhoods_.geojson\")\n",
    "neighborhood_shapes.plot()\n",
    "\n",
    "# Function which returns the neigborhood that a geographical location falls in\n",
    "# This is used to combine the datasets\n",
    "def getNeighborhood(latitude, longitude):\n",
    "    point = shp.geometry.Point(longitude,latitude)\n",
    "    # For each row in the shape data\n",
    "    for _,x in neighborhood_shapes.iterrows():\n",
    "        #Test if the point is within that neighborhood\n",
    "        if(point.within(x[\"geometry\"])):\n",
    "            return x[\"hood\"]\n",
    "    \n",
    "    return \"\""
   ]
  },
  {
   "cell_type": "code",
   "execution_count": null,
   "metadata": {},
   "outputs": [],
   "source": [
    "# import asbestos dataset\n",
    "asbestos = pd.read_csv(\"Asbestos.csv\")\n",
    "\n",
    "#Filter to only pittsburgh\n",
    "asbestos = asbestos[asbestos[\"city\"]==\"PITTSBURGH\"]\n",
    "\n",
    "# Create new array to store neighborhoods\n",
    "neighborhoods = [] # new array\n",
    "\n",
    "#Create array column of neighborhoods from the data\n",
    "for _, row in asbestos.iterrows():\n",
    "    neighborhoods.append(getNeighborhood(row[\"latitude\"],row[\"longitude\"]))"
   ]
  },
  {
   "cell_type": "code",
   "execution_count": null,
   "metadata": {},
   "outputs": [],
   "source": [
    "# Add new column of neighborhoods to dataframe\n",
    "asbestos[\"neighborhood\"] = neighborhoods\n",
    "\n",
    "# Filter for only the rows with valid neighborhoods\n",
    "asbestos = asbestos[asbestos[\"neighborhood\"]!=\"\"]\n",
    "\n",
    "# Create new file\n",
    "asbestos.to_csv(\"data_with_neighborhoods/Asbestos_WithNeighborhood.csv\")"
   ]
  },
  {
   "cell_type": "markdown",
   "metadata": {},
   "source": [
    "## Restauraunt Inspections\n",
    "\n",
    "Now that asbestos is done, the next step is normalizing the resturauntInspection dataset.\n",
    "I'll have to use geocoding to get lat/long coordinates from a street adress for this dataset.\n",
    "\n",
    "I used this website as a reference for this section:\n",
    "https://towardsdatascience.com/geocode-with-python-161ec1e62b89"
   ]
  },
  {
   "cell_type": "code",
   "execution_count": null,
   "metadata": {},
   "outputs": [],
   "source": [
    "#Import data\n",
    "restaurants = pd.read_csv(\"restaurantInspections.csv\")\n",
    "\n",
    "# Filter for only Pittsburgh entries\n",
    "restaurants = restaurants[restaurants[\"city\"]==\"Pittsburgh\"]\n",
    "\n",
    "# Construct adresses from data\n",
    "restaurants_addresses = restaurants.apply(lambda row: \"{} {}, {} {}\".format(row[\"num\"],row[\"street\"],row[\"city\"],row[\"state\"]), axis=1)\n",
    "\n",
    "# Add to original data, this will be used to get the lookup values\n",
    "restaurants[\"address\"] = restaurants_addresses\n",
    "\n",
    "restaurants_addresses = restaurants_addresses.drop_duplicates()\n",
    "\n",
    "print(\"Len:\",len(restaurants_addresses.index))\n",
    "print(\"Ratio:\",len(restaurants_addresses.index)/len(restaurants.index))\n",
    "print(restaurants_addresses)\n",
    "\n",
    "\n",
    "\n",
    "\n"
   ]
  },
  {
   "cell_type": "code",
   "execution_count": null,
   "metadata": {},
   "outputs": [],
   "source": [
    "\n",
    "#Create new dictionary for neighborhoods\n",
    "neighborhood_dict = {}\n",
    "\n",
    "#Get locator\n",
    "locator = Nominatim(user_agent=\"myGeocoder\")\n",
    "\n",
    "# set up progress bar\n",
    "# This process takes a while because of rate limiting imposed by the api\n",
    "progressBarSize = 50\n",
    "progressBarIncrement = 1/progressBarSize\n",
    "progress = 0\n",
    "\n",
    "for x in range(progressBarSize):\n",
    "    print(\"-\", end = \"\")\n",
    "print(\"\")\n",
    "\n",
    "index = 0\n",
    "\n",
    "#For each address in the dataset, add the corresponding neighborhood to that row\n",
    "print(\"This code block will take an extremely long time to run because of rate limits imposed by the geoencoding api.\"\n",
    "          +\"You do not need to run it again because the code saves the result as a csv you can import.\")\n",
    "\n",
    "response = input(\"\\nWould you still like to run it? (Y/N) \")\n",
    "\n",
    "if(response == \"Y\"):\n",
    "    for row in restaurants_addresses:\n",
    "        try:\n",
    "            location = locator.geocode(row)\n",
    "            neighborhoods.append(getNeighborhood(location.latitude,location.longitude))\n",
    "            neighborhood_dict[row] = getNeighborhood(location.latitude,location.longitude)\n",
    "        except:\n",
    "            neighborhoods.append(\"\")\n",
    "\n",
    "        # Used to display the progress bar\n",
    "        if(index/len(restaurants_addresses.index) > progress):\n",
    "            print(\"=\", end = \"\")\n",
    "            progress+=progressBarIncrement\n",
    "        index+=1\n",
    "\n",
    "        print(\"\")\n",
    "        print(\"Done\")"
   ]
  },
  {
   "cell_type": "code",
   "execution_count": null,
   "metadata": {},
   "outputs": [],
   "source": [
    "# At this point, the neigborhoods_dict dictionary contains a lookup \n",
    "# for the neighborhoods of each adress in the data\n",
    "\n",
    "#Create a new array for the neigborhoods\n",
    "neighborhoods = []\n",
    "\n",
    "for x in restaurants[\"address\"]:\n",
    "    # x should be in the dictionary, but just in case handle it\n",
    "    if x in neighborhood_dict:\n",
    "        neighborhoods.append(neighborhood_dict[x])\n",
    "    else:\n",
    "        neighborhoods.append(\"\")\n",
    "\n",
    "# Add new column of neighborhoods to dataframe\n",
    "restaurants[\"neighborhood\"] = neighborhoods\n",
    "\n",
    "# Filter for only the rows with valid neighborhoods\n",
    "restaurants_valid = restaurants[restaurants[\"neighborhood\"]!=\"\"]\n",
    "\n",
    "# Create new file\n",
    "restaurants_valid.to_csv(\"data_with_neighborhoods/restaurantInspections_WithNeighborhood.csv\")"
   ]
  },
  {
   "cell_type": "markdown",
   "metadata": {},
   "source": [
    "## Air Quality\n",
    "\n",
    "The last dataset to deal with is air quality, which is a bit of a doozy because of how the data is collected. \n",
    "The data in this set is collected from a bunch of air monitoring sites located in various places in Alegheny county. There aren't one of these in every neighborhood though, so just taking the data from all the sites isn't an option. "
   ]
  },
  {
   "cell_type": "code",
   "execution_count": null,
   "metadata": {},
   "outputs": [],
   "source": [
    "airQuality_Locations = pd.read_csv(\"airQuality_Locations.csv\")\n",
    "airQuality = pd.read_csv(\"airQuality.csv\")\n",
    "\n",
    "airQuality_UniqueLocations = airQuality.drop_duplicates(\"site\")\n",
    "airQuality_Average = airQuality[airQuality[\"stat\"]==\"Avg\"][[\"site\",\"datetime\",\"so2\"]]\n",
    "#Display both the sites and number of times they were referenced\n",
    "print(airQuality_Average.groupby(\"site\").size())"
   ]
  },
  {
   "cell_type": "markdown",
   "metadata": {},
   "source": [
    "---\n",
    "Notice that for some reason, there are entries with a 2 appended to them, or the one case of (Near Road) being used as a site name. I have no idea why this is, but I have to normalize them. I can't find information as to what those modifiers mean, but I'm going to assume they reference the same sensor location as their base name. \n",
    "\n",
    "---"
   ]
  },
  {
   "cell_type": "code",
   "execution_count": null,
   "metadata": {},
   "outputs": [],
   "source": [
    "#locator for reverse geocoding\n",
    "locator = Nominatim(user_agent=\"myGeocoder\")\n",
    "\n",
    "#New array to store neighborhoods\n",
    "neighborhoods = []\n",
    "\n",
    "\n",
    "# for _, row in airQuality_Locations.iterrows():\n",
    "#     # This if statement tests for n/a values, it was more important for the asbestos dataset\n",
    "#     if(row[\"latitude\"]==row[\"latitude\"] and row[\"longitude\"] == row[\"longitude\"]):\n",
    "#         coordinates = geopy.point.Point(row[\"latitude\"], row[\"longitude\"])\n",
    "#         location = locator.reverse(coordinates)\n",
    "#         try:\n",
    "#             neighborhoods.append(location.raw[\"address\"][\"neighbourhood\"])\n",
    "#         except:\n",
    "#             neighborhoods.append(\"\")\n",
    "#             print(location.raw)\n",
    "#             #print(row[\"s_name\"] +\": \"+str(location.raw))\n",
    "#         #neighborhoods.append(location.raw[\"neighbourhood\"])\n",
    "#     else:\n",
    "#         neighborhoods.append(\"\")\n",
    "\n",
    "for _, row in airQuality_Locations.iterrows():\n",
    "    neighborhoods.append(getNeighborhood(row[\"latitude\"],row[\"longitude\"]))"
   ]
  },
  {
   "cell_type": "code",
   "execution_count": null,
   "metadata": {},
   "outputs": [],
   "source": [
    "airQuality_Locations[\"neighborhood\"] = neighborhoods\n",
    "\n",
    "print(airQuality_Locations[[\"site\",\"neighborhood\"]])"
   ]
  },
  {
   "cell_type": "code",
   "execution_count": 41,
   "metadata": {},
   "outputs": [
    {
     "name": "stderr",
     "output_type": "stream",
     "text": [
      "C:\\Users\\Owner\\anaconda3\\envs\\geo_env\\lib\\site-packages\\pyproj\\crs\\crs.py:53: FutureWarning: '+init=<authority>:<code>' syntax is deprecated. '<authority>:<code>' is the preferred initialization method. When making the change, be mindful of axis order changes: https://pyproj4.github.io/pyproj/stable/gotchas.html#axis-order-changes-in-proj-6\n",
      "  return _prepare_from_string(\" \".join(pjargs))\n"
     ]
    },
    {
     "data": {
      "text/plain": [
       "<Figure size 3636x1332 with 0 Axes>"
      ]
     },
     "metadata": {},
     "output_type": "display_data"
    },
    {
     "data": {
      "image/png": "[encoded data removed]",
      "text/plain": [
       "<Figure size 432x288 with 1 Axes>"
      ]
     },
     "metadata": {
      "needs_background": "light"
     },
     "output_type": "display_data"
    }
   ],
   "source": [
    "geometry=[Point(xy) for xy in zip(airQuality_Locations[\"longitude\"], airQuality_Locations[\"latitude\"])]\n",
    "\n",
    "crs={'init':'epsg:4326'}\n",
    "geo = gpd.GeoDataFrame(airQuality_Locations,crs=crs,geometry=geometry)\n",
    "\n",
    "fig = plt.pyplot.gcf()\n",
    "fig.set_size_inches(50.5, 18.5,forward = True)\n",
    "\n",
    "plot =  geo.append(neighborhood_shapes).plot()\n",
    "\n",
    "for point, label in zip(geometry, airQuality_Locations[\"site\"]):\n",
    "    plot.annotate(label, xy=(point.x, point.y), xytext=(3, 3), textcoords=\"offset points\")\n",
    "    \n"
   ]
  },
  {
   "cell_type": "code",
   "execution_count": 89,
   "metadata": {},
   "outputs": [],
   "source": [
    "\n",
    "\n"
   ]
  }
 ],
 "metadata": {
  "kernelspec": {
   "display_name": "Python 3",
   "language": "python",
   "name": "python3"
  },
  "language_info": {
   "codemirror_mode": {
    "name": "ipython",
    "version": 3
   },
   "file_extension": ".py",
   "mimetype": "text/x-python",
   "name": "python",
   "nbconvert_exporter": "python",
   "pygments_lexer": "ipython3",
   "version": "3.8.5"
  }
 },
 "nbformat": 4,
 "nbformat_minor": 5
}
