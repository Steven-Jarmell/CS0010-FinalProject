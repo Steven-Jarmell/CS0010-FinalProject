{
 "cells": [
  {
   "cell_type": "code",
   "execution_count": 12,
   "metadata": {},
   "outputs": [
    {
     "name": "stdout",
     "output_type": "stream",
     "text": [
      "14         Pittsburgh-127\n",
      "27         Pittsburgh-101\n",
      "40         Pittsburgh-107\n",
      "55         Pittsburgh-102\n",
      "80         Pittsburgh-124\n",
      "               ...       \n",
      "45783      North Braddock\n",
      "46609             Oakmont\n",
      "61734            Carnegie\n",
      "75621                Pine\n",
      "76946    Pittsburgh (All)\n",
      "Name: municipal, Length: 95, dtype: object\n"
     ]
    }
   ],
   "source": [
    "import pandas as pd\n",
    "import numpy as np\n",
    "\n",
    "\n",
    "# Read data\n",
    "resturaunts = pd.read_csv(\"restaurantInspections.csv\")\n",
    "\n",
    "resturaunts_pittsburgh = resturaunts[resturaunts[\"city\"] == \"Pittsburgh\"]\n",
    "\n",
    "# Retrieve the unique municipalities \n",
    "resturaunts_unique_districts = resturaunts_pittsburgh[\"municipal\"].drop_duplicates()\n",
    "print(resturaunts_unique_districts)\n",
    "\n",
    "#for():\n",
    "    "
   ]
  },
  {
   "cell_type": "code",
   "execution_count": 44,
   "metadata": {},
   "outputs": [],
   "source": [
    "# Extract all locations and inspections where the inspection result succeded\n",
    "resturaunts_pittsburgh_pass = resturaunts_pittsburgh[resturaunts_pittsburgh[\"placard_desc\"]==\"Inspected & Permitted\"]\n",
    "resturaunts_pittsburgh_fail = resturaunts_pittsburgh[resturaunts_pittsburgh[\"placard_desc\"]!=\"Inspected & Permitted\"]\n",
    "\n",
    "#Group it by municipality\n",
    "rest_fail_group =  resturaunts_pittsburgh_fail.groupby(by=\"municipal\")[\"placard_desc\"]\n",
    "rest_pass_group = resturaunts_pittsburgh_pass.groupby(by=\"municipal\")[\"placard_desc\"]\n",
    "rest_total_group = resturaunts_pittsburgh.groupby(by=\"municipal\")[\"placard_desc\"]\n",
    "\n",
    "#Calculate proportions of pass/fail by dividing pass counts by total counts\n",
    "rest_proportions = rest_fail_group.count()/rest_total_group.count()\n",
    "\n"
   ]
  },
  {
   "cell_type": "code",
   "execution_count": 51,
   "metadata": {},
   "outputs": [
    {
     "data": {
      "text/plain": [
       "<AxesSubplot:xlabel='municipal'>"
      ]
     },
     "execution_count": 51,
     "metadata": {},
     "output_type": "execute_result"
    },
    {
     "data": {
      "image/png": "[encoded data removed]",
      "text/plain": [
       "<Figure size 432x288 with 1 Axes>"
      ]
     },
     "metadata": {
      "needs_background": "light"
     },
     "output_type": "display_data"
    }
   ],
   "source": [
    "rest_proportions.nsmallest(10).plot.bar()"
   ]
  }
 ],
 "metadata": {
  "kernelspec": {
   "display_name": "Python 3",
   "language": "python",
   "name": "python3"
  },
  "language_info": {
   "codemirror_mode": {
    "name": "ipython",
    "version": 3
   },
   "file_extension": ".py",
   "mimetype": "text/x-python",
   "name": "python",
   "nbconvert_exporter": "python",
   "pygments_lexer": "ipython3",
   "version": "3.8.5"
  }
 },
 "nbformat": 4,
 "nbformat_minor": 4
}
