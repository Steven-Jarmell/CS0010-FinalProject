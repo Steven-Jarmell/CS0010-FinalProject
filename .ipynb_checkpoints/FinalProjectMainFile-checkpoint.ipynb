{
 "cells": [
  {
   "cell_type": "code",
   "execution_count": 3,
   "id": "46d68203-8830-421f-88b3-1974743542bf",
   "metadata": {},
   "outputs": [],
   "source": [
    "# Import necessary libraries\n",
    "import pandas as pd\n",
    "import numpy as np\n",
    "import geopandas as gpd\n",
    "\n",
    "# Create a new dataframe to hold all the metrics from all the neighborhoods\n",
    "neighborhood_metrics = pd.DataFrame()\n",
    "\n",
    "#Get all neighborhoods in an array and add it to the neighborhood_metrics\n",
    "neighborhood_shapes = gpd.read_file(\"Neighborhoods_.geojson\")\n",
    "neighborhood_metrics[\"neighborhood\"] = neighborhood_shapes[\"hood\"]\n",
    "\n",
    "# When you add your metric column, make sure it's aligned to the way the neighborhoods are stored in neighborhood_metrics"
   ]
  },
  {
   "cell_type": "markdown",
   "id": "58a40c1d-2552-4735-8557-b2149e97809e",
   "metadata": {},
   "source": [
    "## Asbestos"
   ]
  },
  {
   "cell_type": "code",
   "execution_count": null,
   "id": "e397377b-bec5-4e11-ac1d-dc0e8fca6943",
   "metadata": {},
   "outputs": [],
   "source": [
    "\n",
    "restaurantInspections = pd.read_csv(\"\")"
   ]
  },
  {
   "cell_type": "markdown",
   "id": "eacf4830-7bd2-4bb4-82e6-2a8069a87160",
   "metadata": {},
   "source": [
    "## Restaurant Inspections"
   ]
  },
  {
   "cell_type": "code",
   "execution_count": null,
   "id": "67c95506-fdf3-490f-9325-c4dc38eec059",
   "metadata": {},
   "outputs": [],
   "source": []
  },
  {
   "cell_type": "markdown",
   "id": "1fa0a3cc-8583-4a7d-aad5-f2b11f9b91de",
   "metadata": {},
   "source": [
    "## Fire Data"
   ]
  },
  {
   "cell_type": "code",
   "execution_count": null,
   "id": "3451ff93-bcfb-47a0-868a-b1487317fdba",
   "metadata": {},
   "outputs": [],
   "source": []
  }
 ],
 "metadata": {
  "kernelspec": {
   "display_name": "Python 3",
   "language": "python",
   "name": "python3"
  },
  "language_info": {
   "codemirror_mode": {
    "name": "ipython",
    "version": 3
   },
   "file_extension": ".py",
   "mimetype": "text/x-python",
   "name": "python",
   "nbconvert_exporter": "python",
   "pygments_lexer": "ipython3",
   "version": "3.9.2"
  }
 },
 "nbformat": 4,
 "nbformat_minor": 5
}
