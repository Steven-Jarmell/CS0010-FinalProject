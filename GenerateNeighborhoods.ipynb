{
 "cells": [
  {
   "cell_type": "markdown",
   "id": "76d10b56-85d2-48d0-9bfc-267484c87946",
   "metadata": {},
   "source": [
    "# Generating Neighborhood Data\n",
    "\n",
    "The asbestos dataset doesn't contain readable neighborhood information, and my previous method of trying to reverse zipcodes to neighborhoods doesn't work. Reverse geocoding is the next best option.\n",
    "\n",
    "I used this as a reference for the capabilities of this setup:\n",
    "https://towardsdatascience.com/reverse-geocoding-in-python-a915acf29eb6"
   ]
  },
  {
   "cell_type": "code",
   "execution_count": null,
   "id": "ecf7271b-ec0d-4713-913d-c56e64d79ebc",
   "metadata": {},
   "outputs": [],
   "source": [
    "# Import necessary libraries, you'll have to install them if you don't have them. Particularly geopy\n",
    "import pandas as pd\n",
    "import geopandas as gpd\n",
    "import geopy\n",
    "\n",
    "from geopy.geocoders import Nominatim\n",
    "from geopy.extra.rate_limiter import RateLimiter\n"
   ]
  },
  {
   "cell_type": "code",
   "execution_count": 26,
   "id": "0b00b402-f430-465f-bc2b-0a9b85497087",
   "metadata": {},
   "outputs": [
    {
     "name": "stdout",
     "output_type": "stream",
     "text": [
      "Done when bottom bar matches top\n",
      "==================================================\n",
      "=================================================="
     ]
    }
   ],
   "source": [
    "# import asbestos dataset\n",
    "asbestos = pd.read_csv(\"Asbestos.csv\")\n",
    "\n",
    "#Filter to only pittsburgh\n",
    "asbestos = asbestos[asbestos[\"city\"]==\"PITTSBURGH\"]\n",
    "\n",
    "#locator for reverse geocoding\n",
    "locator = Nominatim(user_agent=\"myGeocoder\")\n",
    "\n",
    "neighborhoods = [] # new array\n",
    "\n",
    "# Begin code for visual progress bar, the conversion takes a while\n",
    "progressDiv = 50\n",
    "# top bar for progress bar\n",
    "print(\"Done when bottom bar matches top\")\n",
    "for i in range(progressDiv):\n",
    "    print(\"=\",end = \"\")\n",
    "    \n",
    "print(\"\") # newline\n",
    "\n",
    "progressInc = 1/progressDiv\n",
    "progress = 0\n",
    "# end progress\n",
    "\n",
    "index = 0\n",
    "for _, row in asbestos.iterrows():\n",
    "    #print(row[\"latitude\"])\n",
    "    if(row[\"latitude\"]==row[\"latitude\"] and row[\"longitude\"] == row[\"longitude\"]):\n",
    "        coordinates = geopy.point.Point(row[\"latitude\"], row[\"longitude\"])\n",
    "        location = locator.reverse(coordinates)\n",
    "        try:\n",
    "            neighborhoods.append(location.raw[\"address\"][\"neighbourhood\"])\n",
    "        except:\n",
    "            neighborhoods.append(\"\")\n",
    "            #print(row[\"s_name\"] +\": \"+str(location.raw))\n",
    "        #neighborhoods.append(location.raw[\"neighbourhood\"])\n",
    "    else:\n",
    "        neighborhoods.append(\"\")\n",
    "    \n",
    "    # Display progress bar\n",
    "    if(index/len(asbestos) >= progress):\n",
    "        progress+=progressInc\n",
    "        print(\"=\", end = \"\")\n",
    "    index+=1"
   ]
  },
  {
   "cell_type": "code",
   "execution_count": 27,
   "id": "f8a9bffc-f8e0-4a98-b246-4d10196e5e23",
   "metadata": {},
   "outputs": [],
   "source": [
    "# Add new column of neighborhoods to dataframe\n",
    "asbestos[\"neighborhood\"] = neighborhoods\n",
    "\n",
    "# Filter for only the rows with valid neighborhoods\n",
    "asbestos = asbestos[asbestos[\"neighborhood\"]!=\"\"]"
   ]
  },
  {
   "cell_type": "code",
   "execution_count": 28,
   "id": "ce44909f-8039-43d0-9c88-d0c0bde14ed4",
   "metadata": {},
   "outputs": [],
   "source": [
    "asbestos.to_csv(\"Asbestos_WithNeighborhood.csv\")"
   ]
  }
 ],
 "metadata": {
  "kernelspec": {
   "display_name": "Python 3",
   "language": "python",
   "name": "python3"
  },
  "language_info": {
   "codemirror_mode": {
    "name": "ipython",
    "version": 3
   },
   "file_extension": ".py",
   "mimetype": "text/x-python",
   "name": "python",
   "nbconvert_exporter": "python",
   "pygments_lexer": "ipython3",
   "version": "3.9.2"
  }
 },
 "nbformat": 4,
 "nbformat_minor": 5
}
