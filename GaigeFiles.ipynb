{
 "cells": [
  {
   "cell_type": "code",
   "execution_count": 3,
   "metadata": {},
   "outputs": [
    {
     "name": "stdout",
     "output_type": "stream",
     "text": [
      "14         Pittsburgh-127\n",
      "27         Pittsburgh-101\n",
      "40         Pittsburgh-107\n",
      "55         Pittsburgh-102\n",
      "80         Pittsburgh-124\n",
      "               ...       \n",
      "45783      North Braddock\n",
      "46609             Oakmont\n",
      "61734            Carnegie\n",
      "75621                Pine\n",
      "76946    Pittsburgh (All)\n",
      "Name: municipal, Length: 95, dtype: object\n"
     ]
    }
   ],
   "source": [
    "import pandas as pd\n",
    "import numpy as np\n",
    "\n",
    "\n",
    "# Read data\n",
    "resturaunts = pd.read_csv(\"restaurantInspections.csv\")\n",
    "\n",
    "resturaunts_pittsburgh = resturaunts[resturaunts[\"city\"] == \"Pittsburgh\"]\n",
    "\n",
    "# Retrieve the unique municipalities \n",
    "resturaunts_unique_districts = resturaunts_pittsburgh[\"municipal\"].drop_duplicates()\n",
    "print(resturaunts_unique_districts)\n",
    "\n",
    "#for():\n",
    "    "
   ]
  },
  {
   "cell_type": "code",
   "execution_count": 4,
   "metadata": {},
   "outputs": [],
   "source": [
    "# Extract all locations and inspections where the inspection result succeded\n",
    "resturaunts_pittsburgh_pass = resturaunts_pittsburgh[resturaunts_pittsburgh[\"placard_desc\"]==\"Inspected & Permitted\"]\n",
    "resturaunts_pittsburgh_fail = resturaunts_pittsburgh[resturaunts_pittsburgh[\"placard_desc\"]!=\"Inspected & Permitted\"]\n",
    "\n",
    "#Group it by municipality\n",
    "rest_fail_group =  resturaunts_pittsburgh_fail.groupby(by=\"municipal\")[\"placard_desc\"]\n",
    "rest_pass_group = resturaunts_pittsburgh_pass.groupby(by=\"municipal\")[\"placard_desc\"]\n",
    "rest_total_group = resturaunts_pittsburgh.groupby(by=\"municipal\")[\"placard_desc\"]\n",
    "\n",
    "#Calculate proportions of pass/fail by dividing pass counts by total counts\n",
    "rest_proportions = rest_fail_group.count()/rest_total_group.count()\n",
    "\n"
   ]
  },
  {
   "cell_type": "code",
   "execution_count": null,
   "metadata": {},
   "outputs": [],
   "source": [
    "rest_proportions.nsmallest(10).plot.bar()"
   ]
  },
  {
   "cell_type": "markdown",
   "metadata": {},
   "source": [
    "---\n",
    "## Combining Datasets\n",
    "Now for my attempt to combine all these datasets into one coherent dataset. My working principlehere is that my dataset has zipcodes for the districts, which will hopefully allow me to assign districts to each zipcode in Connor's dataset.\n",
    "\n",
    "---"
   ]
  },
  {
   "cell_type": "code",
   "execution_count": 5,
   "metadata": {},
   "outputs": [
    {
     "name": "stdout",
     "output_type": "stream",
     "text": [
      "zip\n",
      "15205.0    7\n",
      "15221.0    6\n",
      "15202.0    5\n",
      "15236.0    5\n",
      "15238.0    5\n",
      "15237.0    4\n",
      "15209.0    2\n",
      "15212.0    2\n",
      "15215.0    2\n",
      "15218.0    2\n",
      "15226.0    2\n",
      "15227.0    2\n",
      "15229.0    2\n",
      "15234.0    2\n",
      "15239.0    2\n",
      "dtype: int64\n",
      "                                               municipal\n",
      "82                                               Dormont\n",
      "103    South Park, Whitehall, Pleasant Hills, West Mi...\n",
      "124                                      Ross, West View\n",
      "128                                            Mt Oliver\n",
      "144                                           Mt Lebanon\n",
      "...                                                  ...\n",
      "45783  Wilkinsburg, Wilkins, Braddock Hills, Forest H...\n",
      "46609                                      Plum, Oakmont\n",
      "61734                                           Carnegie\n",
      "75621                                  Baldwin Twp, Pine\n",
      "76946                          Reserve, Pittsburgh (All)\n",
      "\n",
      "[63 rows x 1 columns]\n"
     ]
    }
   ],
   "source": [
    "import re\n",
    "# Generate table of municipalities by zipcode. I have no guarantee that zipcodes only account for one municipality.\n",
    "\n",
    "zipcodes = resturaunts_pittsburgh[[\"municipal\",\"zip\"]].drop_duplicates(subset = \"municipal\")\n",
    "\n",
    "municipal_query_pattern = re.compile(\"^Pittsburgh-\\d+\")\n",
    "# This line removes all municipalites that fit the form of Pittsburgh-105\n",
    "# I have no idea what that even refers to, but I don't think it's important to keep.\n",
    "zipcodes = zipcodes[~(zipcodes.municipal.str.match(\"^Pittsburgh-\\d+\"))]\n",
    "#zipcodes = zipcodes[municipal_query_pattern.search(zipcodes[\"municipal\"])]\n",
    "\n",
    "# Attempt to discover duplicate zip codes\n",
    "print(zipcodes.groupby(\"zip\").size().nlargest(15))\n",
    "print(zipcodes.groupby(\"zip\").transform(lambda x : ', '.join(x)))\n"
   ]
  },
  {
   "cell_type": "markdown",
   "metadata": {},
   "source": [
    "---\n",
    "This is not a good look, zipcodes map to up to 7 different municipalities\n",
    "\n",
    "---"
   ]
  },
  {
   "cell_type": "code",
   "execution_count": 8,
   "metadata": {},
   "outputs": [
    {
     "ename": "ModuleNotFoundError",
     "evalue": "No module named 'tqdm'",
     "output_type": "error",
     "traceback": [
      "\u001b[1;31m---------------------------------------------------------------------------\u001b[0m",
      "\u001b[1;31mModuleNotFoundError\u001b[0m                       Traceback (most recent call last)",
      "\u001b[1;32m<ipython-input-8-61c8db477e92>\u001b[0m in \u001b[0;36m<module>\u001b[1;34m\u001b[0m\n\u001b[0;32m      8\u001b[0m \u001b[1;31m#import matplotlib.pyplot as plt\u001b[0m\u001b[1;33m\u001b[0m\u001b[1;33m\u001b[0m\u001b[1;33m\u001b[0m\u001b[0m\n\u001b[0;32m      9\u001b[0m \u001b[1;31m#import plotly_express as px\u001b[0m\u001b[1;33m\u001b[0m\u001b[1;33m\u001b[0m\u001b[1;33m\u001b[0m\u001b[0m\n\u001b[1;32m---> 10\u001b[1;33m \u001b[1;32mimport\u001b[0m \u001b[0mtqdm\u001b[0m\u001b[1;33m\u001b[0m\u001b[1;33m\u001b[0m\u001b[0m\n\u001b[0m\u001b[0;32m     11\u001b[0m \u001b[1;32mfrom\u001b[0m \u001b[0mtqdm\u001b[0m\u001b[1;33m.\u001b[0m\u001b[0m_tqdm_notebook\u001b[0m \u001b[1;32mimport\u001b[0m \u001b[0mtqdm_notebook\u001b[0m\u001b[1;33m\u001b[0m\u001b[1;33m\u001b[0m\u001b[0m\n",
      "\u001b[1;31mModuleNotFoundError\u001b[0m: No module named 'tqdm'"
     ]
    }
   ],
   "source": [
    "\n",
    "import pandas as pd\n",
    "import geopandas as gpd\n",
    "import geopy\n",
    "\n",
    "from geopy.geocoders import Nominatim\n",
    "from geopy.extra.rate_limiter import RateLimiter\n",
    "\n",
    "#import matplotlib.pyplot as plt\n",
    "#import plotly_express as px\n",
    "#import tqdm\n",
    "#from tqdm._tqdm_notebook import tqdm_notebook"
   ]
  },
  {
   "cell_type": "code",
   "execution_count": 12,
   "metadata": {},
   "outputs": [
    {
     "data": {
      "text/plain": [
       "{'place_id': 146527494,\n",
       " 'licence': 'Data © OpenStreetMap contributors, ODbL 1.0. https://osm.org/copyright',\n",
       " 'osm_type': 'way',\n",
       " 'osm_id': 226325259,\n",
       " 'lat': '40.45837495',\n",
       " 'lon': '-80.03157281431601',\n",
       " 'display_name': '1821, Beaver Avenue, Chateau, Pittsburgh, Allegheny County, Pennsylvania, 15233, United States',\n",
       " 'address': {'house_number': '1821',\n",
       "  'road': 'Beaver Avenue',\n",
       "  'neighbourhood': 'Chateau',\n",
       "  'city': 'Pittsburgh',\n",
       "  'county': 'Allegheny County',\n",
       "  'state': 'Pennsylvania',\n",
       "  'postcode': '15233',\n",
       "  'country': 'United States',\n",
       "  'country_code': 'us'},\n",
       " 'boundingbox': ['40.4572458', '40.4588873', '-80.0321267', '-80.0308325']}"
      ]
     },
     "execution_count": 12,
     "metadata": {},
     "output_type": "execute_result"
    }
   ],
   "source": [
    "locator = Nominatim(user_agent=\"myGeocoder\")\n",
    "\n",
    "coordinates = geopy.point.Point(asbestos[\"latitude\"][x], asbestos[\"longitude\"][x])\n",
    "location = locator.reverse(coordinates)\n",
    "location.raw"
   ]
  }
 ],
 "metadata": {
  "kernelspec": {
   "display_name": "Python 3",
   "language": "python",
   "name": "python3"
  },
  "language_info": {
   "codemirror_mode": {
    "name": "ipython",
    "version": 3
   },
   "file_extension": ".py",
   "mimetype": "text/x-python",
   "name": "python",
   "nbconvert_exporter": "python",
   "pygments_lexer": "ipython3",
<<<<<<< HEAD
   "version": "3.8.3"
=======
   "version": "3.9.2"
>>>>>>> 3d78df20b1591d21fbfb26d842359452d7057677
  }
 },
 "nbformat": 4,
 "nbformat_minor": 4
}
